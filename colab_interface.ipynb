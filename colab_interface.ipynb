{
  "nbformat": 4,
  "nbformat_minor": 0,
  "metadata": {
    "colab": {
      "provenance": [],
      "mount_file_id": "1oGKK_la0OuujoMkVq4CFT1CSmdmn_pBq",
      "authorship_tag": "ABX9TyPELXjmh9eSZAY1jpF3x/Yz",
      "include_colab_link": true
    },
    "kernelspec": {
      "name": "python3",
      "display_name": "Python 3"
    },
    "language_info": {
      "name": "python"
    }
  },
  "cells": [
    {
      "cell_type": "markdown",
      "metadata": {
        "id": "view-in-github",
        "colab_type": "text"
      },
      "source": [
        "<a href=\"https://colab.research.google.com/github/essans/colab_interface/blob/main/colab_interface.ipynb\" target=\"_parent\"><img src=\"https://colab.research.google.com/assets/colab-badge.svg\" alt=\"Open In Colab\"/></a>"
      ]
    },
    {
      "cell_type": "markdown",
      "source": [
        "### Mount google drive\n",
        "\n"
      ],
      "metadata": {
        "id": "cLiFExmxgVCc"
      }
    },
    {
      "cell_type": "code",
      "source": [
        "from google.colab import drive\n",
        "drive.mount('/content/drive')"
      ],
      "metadata": {
        "id": "FPhfk-VbgUMx"
      },
      "execution_count": null,
      "outputs": []
    },
    {
      "cell_type": "markdown",
      "source": [
        "### wget a file from github"
      ],
      "metadata": {
        "id": "kNTByyrIK68o"
      }
    },
    {
      "cell_type": "code",
      "execution_count": null,
      "metadata": {
        "id": "3E8QFDUPCapq",
        "colab": {
          "base_uri": "https://localhost:8080/"
        },
        "outputId": "04f1a6da-85a3-48cc-906d-75aade2050d2"
      },
      "outputs": [
        {
          "output_type": "stream",
          "name": "stdout",
          "text": [
            "--2025-05-15 22:38:32--  https://raw.githubusercontent.com/essans/gsd/main/gsd/gsdIO.py\n",
            "Resolving raw.githubusercontent.com (raw.githubusercontent.com)... 185.199.108.133, 185.199.109.133, 185.199.110.133, ...\n",
            "Connecting to raw.githubusercontent.com (raw.githubusercontent.com)|185.199.108.133|:443... connected.\n",
            "HTTP request sent, awaiting response... 200 OK\n",
            "Length: 1568 (1.5K) [text/plain]\n",
            "Saving to: ‘gsdIO.py’\n",
            "\n",
            "\rgsdIO.py              0%[                    ]       0  --.-KB/s               \rgsdIO.py            100%[===================>]   1.53K  --.-KB/s    in 0s      \n",
            "\n",
            "2025-05-15 22:38:33 (24.9 MB/s) - ‘gsdIO.py’ saved [1568/1568]\n",
            "\n"
          ]
        }
      ],
      "source": [
        "user = \"essans\"\n",
        "repo = \"gsd\"\n",
        "dir = \"gsd\"\n",
        "pyfile = \"gsdIO.py\"\n",
        "\n",
        "url = f\"https://raw.githubusercontent.com/{user}/{repo}/main/{dir}/{pyfile}\"\n",
        "!wget --no-cache {url}"
      ]
    },
    {
      "cell_type": "markdown",
      "source": [
        "### show file contents"
      ],
      "metadata": {
        "id": "bKZPq5Q_TO-p"
      }
    },
    {
      "cell_type": "code",
      "source": [
        "with open(pyfile, 'r') as f:\n",
        "    print(f.read())"
      ],
      "metadata": {
        "colab": {
          "base_uri": "https://localhost:8080/"
        },
        "id": "jfWQS7O_GGKi",
        "outputId": "f1429cc0-df0c-4c8e-8ea4-aab1637c6e02",
        "collapsed": true
      },
      "execution_count": null,
      "outputs": [
        {
          "output_type": "stream",
          "name": "stdout",
          "text": [
            "\"\"\"\n",
            "gsdIO: Functions to handles files, directories, input/output operations.\n",
            "\n",
            "- create_dir: creates new directory\n",
            "- join_csv: join multiple csv files as they are read into memory\n",
            "\n",
            "See each function for corresponding docstring\n",
            "\"\"\"\n",
            "\n",
            "\n",
            "\n",
            "\n",
            "import os\n",
            "import s3fs\n",
            "import pandas as pd\n",
            "\n",
            "\n",
            "def create_dir(full_path):\n",
            "    \"\"\"create a new path where if it doesn't already exist\"\"\"\n",
            "    if not os.path.exists(full_path):\n",
            "        os.makedirs(full_path)\n",
            "        print('created directory ' + full_path)\n",
            "    else:\n",
            "        print('path already exists: ' + full_path)\n",
            "\n",
            "\n",
            "\n",
            "def join_csv(path, file_list=None, wildcard='',return_as='df'):\n",
            "    \n",
            "    \"\"\"\n",
            "    join multiple csv files:\n",
            "        \n",
            "    > join_csv(path, file_list=None, wildcard='', return_as='df')\n",
            "\n",
            "    - supply file_list or read all from path as default\n",
            "    - provide wildcard to filter filename for import(eg '_2024_01').  Default is no filtering\n",
            "    - return_as 'df' (default) or 'dict'\n",
            "\n",
            "    \"\"\"\n",
            "\n",
            "    dict_store = {} \n",
            "    \n",
            "    if file_list is None:\n",
            "        dir_contents = os.listdir(path)\n",
            "        filenames = [f for f in  dir_contents if os.path.isfile(path / f)] \n",
            "\n",
            "    else:\n",
            "        filenames = file_list\n",
            "    \n",
            "    filenames = [f for f in filenames if wildcard in f]\n",
            "    \n",
            "    for file in filenames:\n",
            "        _this_file = pd.read_csv(path / file, low_memory=False)\n",
            "        _this_file['source_file'] = file\n",
            "        dict_store[file] = _this_file\n",
            "\n",
            "        print('>>> ' + file, _this_file.shape)\n",
            "\n",
            "        \n",
            "    if return_as == 'dict':\n",
            "        return dict_store\n",
            "    \n",
            "    else:\n",
            "        return pd.concat(dict_store).reset_index(drop=True)\n",
            "    \n",
            "\n"
          ]
        }
      ]
    },
    {
      "cell_type": "markdown",
      "source": [
        "### Usual grab a function"
      ],
      "metadata": {
        "id": "cqaJqcKOTXgC"
      }
    },
    {
      "cell_type": "code",
      "source": [
        "from gsdIO import create_dir\n",
        "\n"
      ],
      "metadata": {
        "id": "XRpLjPLvGcba"
      },
      "execution_count": null,
      "outputs": []
    },
    {
      "cell_type": "code",
      "source": [
        "create_dir(\"test\")"
      ],
      "metadata": {
        "colab": {
          "base_uri": "https://localhost:8080/"
        },
        "id": "RiaZ3OgLHRj4",
        "outputId": "8dff586b-d91a-45df-ed2b-3467da83dbca"
      },
      "execution_count": null,
      "outputs": [
        {
          "output_type": "stream",
          "name": "stdout",
          "text": [
            "created directory test\n"
          ]
        }
      ]
    },
    {
      "cell_type": "markdown",
      "source": [
        "---"
      ],
      "metadata": {
        "id": "bu2XQHhgH0MR"
      }
    },
    {
      "cell_type": "markdown",
      "source": [
        "### clone repo"
      ],
      "metadata": {
        "id": "mbpI-NQPT4Ua"
      }
    },
    {
      "cell_type": "code",
      "source": [
        "import os\n",
        "\n",
        "user = \"essans\"\n",
        "repo = \"gsd\"\n",
        "\n",
        "# remove local directory if it already exists\n",
        "if os.path.isdir(repo):\n",
        "    !rm -rf {repo}\n",
        "\n",
        "!git clone https://github.com/{user}/{repo}.git"
      ],
      "metadata": {
        "colab": {
          "base_uri": "https://localhost:8080/"
        },
        "id": "ZbJ-z0TTT6Nm",
        "outputId": "f3fcedcd-47d6-4071-d4a2-b6ec84e39ad9"
      },
      "execution_count": null,
      "outputs": [
        {
          "output_type": "stream",
          "name": "stdout",
          "text": [
            "Cloning into 'gsd'...\n",
            "remote: Enumerating objects: 71, done.\u001b[K\n",
            "remote: Counting objects: 100% (71/71), done.\u001b[K\n",
            "remote: Compressing objects: 100% (51/51), done.\u001b[K\n",
            "remote: Total 71 (delta 33), reused 55 (delta 17), pack-reused 0 (from 0)\u001b[K\n",
            "Receiving objects: 100% (71/71), 16.20 KiB | 5.40 MiB/s, done.\n",
            "Resolving deltas: 100% (33/33), done.\n"
          ]
        }
      ]
    },
    {
      "cell_type": "markdown",
      "source": [
        "---"
      ],
      "metadata": {
        "id": "--htBLmbWTxl"
      }
    },
    {
      "cell_type": "markdown",
      "source": [
        "### pip install from a github repo"
      ],
      "metadata": {
        "id": "KJQ_tQ_CWn-p"
      }
    },
    {
      "cell_type": "code",
      "source": [
        "user = 'essans'\n",
        "repo = 'gsd'\n",
        "\n",
        "url = f\"git+https://github.com/{user}/{repo}.git\"\n",
        "!pip install --upgrade {url}"
      ],
      "metadata": {
        "colab": {
          "base_uri": "https://localhost:8080/"
        },
        "collapsed": true,
        "id": "b0hV9oMmWsId",
        "outputId": "2ae7cb1d-f69b-4b01-9088-3e2ca5e532ca"
      },
      "execution_count": 20,
      "outputs": [
        {
          "output_type": "stream",
          "name": "stdout",
          "text": [
            "Collecting git+https://github.com/essans/gsd.git\n",
            "  Cloning https://github.com/essans/gsd.git to /tmp/pip-req-build-h26i536l\n",
            "  Running command git clone --filter=blob:none --quiet https://github.com/essans/gsd.git /tmp/pip-req-build-h26i536l\n",
            "  Resolved https://github.com/essans/gsd.git to commit 53429ef109d5cdc0746059ab48a10a4fdbf63afd\n",
            "  Installing build dependencies ... \u001b[?25l\u001b[?25hdone\n",
            "  Getting requirements to build wheel ... \u001b[?25l\u001b[?25hdone\n",
            "  Preparing metadata (pyproject.toml) ... \u001b[?25l\u001b[?25hdone\n",
            "Requirement already satisfied: pyYAML==6.0.2 in /usr/local/lib/python3.11/dist-packages (from gsd==0.1.3) (6.0.2)\n",
            "Requirement already satisfied: setuptools>=65.5.0 in /usr/local/lib/python3.11/dist-packages (from gsd==0.1.3) (75.2.0)\n",
            "Collecting pandas>=2.2.3 (from gsd==0.1.3)\n",
            "  Using cached pandas-2.2.3-cp311-cp311-manylinux_2_17_x86_64.manylinux2014_x86_64.whl.metadata (89 kB)\n",
            "Collecting boto3>=1.35.93 (from gsd==0.1.3)\n",
            "  Using cached boto3-1.38.17-py3-none-any.whl.metadata (6.6 kB)\n",
            "Requirement already satisfied: numpy>=1.26.4 in /usr/local/lib/python3.11/dist-packages (from gsd==0.1.3) (2.0.2)\n",
            "Requirement already satisfied: s3fs!=2025.3.1,>=2024.12.0 in /usr/local/lib/python3.11/dist-packages (from gsd==0.1.3) (2025.3.2)\n",
            "Requirement already satisfied: requests>=2.32.3 in /usr/local/lib/python3.11/dist-packages (from gsd==0.1.3) (2.32.3)\n",
            "Requirement already satisfied: PyJWT>=2.10.1 in /usr/local/lib/python3.11/dist-packages (from gsd==0.1.3) (2.10.1)\n",
            "Collecting botocore<1.39.0,>=1.38.17 (from boto3>=1.35.93->gsd==0.1.3)\n",
            "  Using cached botocore-1.38.17-py3-none-any.whl.metadata (5.7 kB)\n",
            "Requirement already satisfied: jmespath<2.0.0,>=0.7.1 in /usr/local/lib/python3.11/dist-packages (from boto3>=1.35.93->gsd==0.1.3) (1.0.1)\n",
            "Collecting s3transfer<0.13.0,>=0.12.0 (from boto3>=1.35.93->gsd==0.1.3)\n",
            "  Using cached s3transfer-0.12.0-py3-none-any.whl.metadata (1.7 kB)\n",
            "Requirement already satisfied: python-dateutil>=2.8.2 in /usr/local/lib/python3.11/dist-packages (from pandas>=2.2.3->gsd==0.1.3) (2.9.0.post0)\n",
            "Requirement already satisfied: pytz>=2020.1 in /usr/local/lib/python3.11/dist-packages (from pandas>=2.2.3->gsd==0.1.3) (2025.2)\n",
            "Requirement already satisfied: tzdata>=2022.7 in /usr/local/lib/python3.11/dist-packages (from pandas>=2.2.3->gsd==0.1.3) (2025.2)\n",
            "Requirement already satisfied: charset-normalizer<4,>=2 in /usr/local/lib/python3.11/dist-packages (from requests>=2.32.3->gsd==0.1.3) (3.4.2)\n",
            "Requirement already satisfied: idna<4,>=2.5 in /usr/local/lib/python3.11/dist-packages (from requests>=2.32.3->gsd==0.1.3) (3.10)\n",
            "Requirement already satisfied: urllib3<3,>=1.21.1 in /usr/local/lib/python3.11/dist-packages (from requests>=2.32.3->gsd==0.1.3) (2.4.0)\n",
            "Requirement already satisfied: certifi>=2017.4.17 in /usr/local/lib/python3.11/dist-packages (from requests>=2.32.3->gsd==0.1.3) (2025.4.26)\n",
            "Requirement already satisfied: aiobotocore<3.0.0,>=2.5.4 in /usr/local/lib/python3.11/dist-packages (from s3fs!=2025.3.1,>=2024.12.0->gsd==0.1.3) (2.22.0)\n",
            "Requirement already satisfied: fsspec==2025.3.2.* in /usr/local/lib/python3.11/dist-packages (from s3fs!=2025.3.1,>=2024.12.0->gsd==0.1.3) (2025.3.2)\n",
            "Requirement already satisfied: aiohttp!=4.0.0a0,!=4.0.0a1 in /usr/local/lib/python3.11/dist-packages (from s3fs!=2025.3.1,>=2024.12.0->gsd==0.1.3) (3.11.15)\n",
            "Requirement already satisfied: aioitertools<1.0.0,>=0.5.1 in /usr/local/lib/python3.11/dist-packages (from aiobotocore<3.0.0,>=2.5.4->s3fs!=2025.3.1,>=2024.12.0->gsd==0.1.3) (0.12.0)\n",
            "INFO: pip is looking at multiple versions of aiobotocore to determine which version is compatible with other requirements. This could take a while.\n",
            "Collecting aiobotocore<3.0.0,>=2.5.4 (from s3fs!=2025.3.1,>=2024.12.0->gsd==0.1.3)\n",
            "  Using cached aiobotocore-2.21.1-py3-none-any.whl.metadata (24 kB)\n",
            "  Using cached aiobotocore-2.21.0-py3-none-any.whl.metadata (24 kB)\n",
            "  Using cached aiobotocore-2.20.0-py3-none-any.whl.metadata (23 kB)\n",
            "  Using cached aiobotocore-2.19.0-py3-none-any.whl.metadata (23 kB)\n",
            "  Using cached aiobotocore-2.18.0-py3-none-any.whl.metadata (23 kB)\n",
            "  Using cached aiobotocore-2.17.0-py3-none-any.whl.metadata (23 kB)\n",
            "  Using cached aiobotocore-2.16.1-py3-none-any.whl.metadata (23 kB)\n",
            "INFO: pip is still looking at multiple versions of aiobotocore to determine which version is compatible with other requirements. This could take a while.\n",
            "  Using cached aiobotocore-2.16.0-py3-none-any.whl.metadata (23 kB)\n",
            "  Using cached aiobotocore-2.15.2-py3-none-any.whl.metadata (23 kB)\n",
            "  Using cached aiobotocore-2.15.1-py3-none-any.whl.metadata (23 kB)\n",
            "  Using cached aiobotocore-2.15.0-py3-none-any.whl.metadata (23 kB)\n",
            "  Using cached aiobotocore-2.14.0-py3-none-any.whl.metadata (23 kB)\n",
            "INFO: This is taking longer than usual. You might need to provide the dependency resolver with stricter constraints to reduce runtime. See https://pip.pypa.io/warnings/backtracking for guidance. If you want to abort this run, press Ctrl + C.\n",
            "  Using cached aiobotocore-2.13.3-py3-none-any.whl.metadata (22 kB)\n",
            "  Using cached aiobotocore-2.13.2-py3-none-any.whl.metadata (22 kB)\n",
            "  Using cached aiobotocore-2.13.1-py3-none-any.whl.metadata (22 kB)\n",
            "  Using cached aiobotocore-2.13.0-py3-none-any.whl.metadata (21 kB)\n",
            "  Using cached aiobotocore-2.12.4-py3-none-any.whl.metadata (21 kB)\n",
            "  Using cached aiobotocore-2.12.3-py3-none-any.whl.metadata (21 kB)\n",
            "  Using cached aiobotocore-2.12.2-py3-none-any.whl.metadata (21 kB)\n",
            "  Using cached aiobotocore-2.12.1-py3-none-any.whl.metadata (21 kB)\n",
            "  Using cached aiobotocore-2.12.0-py3-none-any.whl.metadata (21 kB)\n",
            "  Using cached aiobotocore-2.11.2-py3-none-any.whl.metadata (21 kB)\n",
            "  Using cached aiobotocore-2.11.1-py3-none-any.whl.metadata (21 kB)\n",
            "  Using cached aiobotocore-2.11.0-py3-none-any.whl.metadata (21 kB)\n",
            "  Using cached aiobotocore-2.10.0-py3-none-any.whl.metadata (20 kB)\n",
            "  Using cached aiobotocore-2.9.1-py3-none-any.whl.metadata (20 kB)\n",
            "  Using cached aiobotocore-2.9.0-py3-none-any.whl.metadata (20 kB)\n",
            "  Using cached aiobotocore-2.8.0-py3-none-any.whl.metadata (20 kB)\n",
            "  Using cached aiobotocore-2.7.0-py3-none-any.whl.metadata (20 kB)\n",
            "  Using cached aiobotocore-2.6.0-py3-none-any.whl.metadata (19 kB)\n",
            "  Using cached aiobotocore-2.5.4-py3-none-any.whl.metadata (19 kB)\n",
            "Collecting s3fs!=2025.3.1,>=2024.12.0 (from gsd==0.1.3)\n",
            "  Using cached s3fs-2025.3.2-py3-none-any.whl.metadata (1.9 kB)\n",
            "  Using cached s3fs-2025.3.0-py3-none-any.whl.metadata (1.9 kB)\n",
            "Collecting fsspec==2025.3.0.* (from s3fs!=2025.3.1,>=2024.12.0->gsd==0.1.3)\n",
            "  Using cached fsspec-2025.3.0-py3-none-any.whl.metadata (11 kB)\n",
            "Collecting s3fs!=2025.3.1,>=2024.12.0 (from gsd==0.1.3)\n",
            "  Using cached s3fs-2025.2.0-py3-none-any.whl.metadata (1.9 kB)\n",
            "Collecting fsspec==2025.2.0.* (from s3fs!=2025.3.1,>=2024.12.0->gsd==0.1.3)\n",
            "  Using cached fsspec-2025.2.0-py3-none-any.whl.metadata (11 kB)\n",
            "Collecting s3fs!=2025.3.1,>=2024.12.0 (from gsd==0.1.3)\n",
            "  Using cached s3fs-2024.12.0-py3-none-any.whl.metadata (1.6 kB)\n",
            "Collecting fsspec==2024.12.0.* (from s3fs!=2025.3.1,>=2024.12.0->gsd==0.1.3)\n",
            "  Using cached fsspec-2024.12.0-py3-none-any.whl.metadata (11 kB)\n",
            "Collecting boto3>=1.35.93 (from gsd==0.1.3)\n",
            "  Downloading boto3-1.38.16-py3-none-any.whl.metadata (6.6 kB)\n",
            "  Downloading boto3-1.38.15-py3-none-any.whl.metadata (6.6 kB)\n",
            "  Downloading boto3-1.38.14-py3-none-any.whl.metadata (6.6 kB)\n",
            "  Downloading boto3-1.38.13-py3-none-any.whl.metadata (6.6 kB)\n",
            "  Downloading boto3-1.38.12-py3-none-any.whl.metadata (6.6 kB)\n",
            "  Downloading boto3-1.38.11-py3-none-any.whl.metadata (6.6 kB)\n",
            "  Downloading boto3-1.38.10-py3-none-any.whl.metadata (6.6 kB)\n",
            "  Downloading boto3-1.38.9-py3-none-any.whl.metadata (6.6 kB)\n",
            "  Downloading boto3-1.38.8-py3-none-any.whl.metadata (6.6 kB)\n",
            "  Downloading boto3-1.38.7-py3-none-any.whl.metadata (6.6 kB)\n",
            "  Downloading boto3-1.38.6-py3-none-any.whl.metadata (6.6 kB)\n",
            "  Downloading boto3-1.38.5-py3-none-any.whl.metadata (6.6 kB)\n",
            "  Downloading boto3-1.38.4-py3-none-any.whl.metadata (6.6 kB)\n",
            "  Downloading boto3-1.38.3-py3-none-any.whl.metadata (6.6 kB)\n",
            "  Downloading boto3-1.38.2-py3-none-any.whl.metadata (6.6 kB)\n",
            "  Downloading boto3-1.38.1-py3-none-any.whl.metadata (6.6 kB)\n",
            "  Downloading boto3-1.38.0-py3-none-any.whl.metadata (6.6 kB)\n",
            "  Downloading boto3-1.37.38-py3-none-any.whl.metadata (6.7 kB)\n",
            "Collecting botocore<1.38.0,>=1.37.38 (from boto3>=1.35.93->gsd==0.1.3)\n",
            "  Downloading botocore-1.37.38-py3-none-any.whl.metadata (5.7 kB)\n",
            "Collecting s3transfer<0.12.0,>=0.11.0 (from boto3>=1.35.93->gsd==0.1.3)\n",
            "  Downloading s3transfer-0.11.5-py3-none-any.whl.metadata (1.7 kB)\n",
            "Collecting boto3>=1.35.93 (from gsd==0.1.3)\n",
            "  Downloading boto3-1.37.37-py3-none-any.whl.metadata (6.7 kB)\n",
            "  Downloading boto3-1.37.36-py3-none-any.whl.metadata (6.7 kB)\n",
            "  Downloading boto3-1.37.35-py3-none-any.whl.metadata (6.7 kB)\n",
            "  Downloading boto3-1.37.34-py3-none-any.whl.metadata (6.7 kB)\n",
            "  Downloading boto3-1.37.33-py3-none-any.whl.metadata (6.7 kB)\n",
            "  Downloading boto3-1.37.32-py3-none-any.whl.metadata (6.7 kB)\n",
            "  Downloading boto3-1.37.31-py3-none-any.whl.metadata (6.7 kB)\n",
            "  Downloading boto3-1.37.30-py3-none-any.whl.metadata (6.7 kB)\n",
            "  Downloading boto3-1.37.29-py3-none-any.whl.metadata (6.7 kB)\n",
            "  Downloading boto3-1.37.28-py3-none-any.whl.metadata (6.7 kB)\n",
            "  Downloading boto3-1.37.27-py3-none-any.whl.metadata (6.7 kB)\n",
            "  Downloading boto3-1.37.26-py3-none-any.whl.metadata (6.7 kB)\n",
            "  Downloading boto3-1.37.25-py3-none-any.whl.metadata (6.7 kB)\n",
            "  Downloading boto3-1.37.24-py3-none-any.whl.metadata (6.7 kB)\n",
            "  Downloading boto3-1.37.23-py3-none-any.whl.metadata (6.7 kB)\n",
            "  Downloading boto3-1.37.22-py3-none-any.whl.metadata (6.7 kB)\n",
            "  Downloading boto3-1.37.21-py3-none-any.whl.metadata (6.7 kB)\n",
            "  Downloading boto3-1.37.20-py3-none-any.whl.metadata (6.7 kB)\n",
            "  Downloading boto3-1.37.19-py3-none-any.whl.metadata (6.7 kB)\n",
            "  Downloading boto3-1.37.18-py3-none-any.whl.metadata (6.7 kB)\n",
            "  Downloading boto3-1.37.17-py3-none-any.whl.metadata (6.7 kB)\n",
            "  Downloading boto3-1.37.16-py3-none-any.whl.metadata (6.7 kB)\n",
            "  Downloading boto3-1.37.15-py3-none-any.whl.metadata (6.7 kB)\n",
            "  Downloading boto3-1.37.14-py3-none-any.whl.metadata (6.7 kB)\n",
            "  Downloading boto3-1.37.13-py3-none-any.whl.metadata (6.7 kB)\n",
            "  Downloading boto3-1.37.12-py3-none-any.whl.metadata (6.7 kB)\n",
            "  Downloading boto3-1.37.11-py3-none-any.whl.metadata (6.7 kB)\n",
            "  Downloading boto3-1.37.10-py3-none-any.whl.metadata (6.7 kB)\n",
            "  Downloading boto3-1.37.9-py3-none-any.whl.metadata (6.6 kB)\n",
            "  Downloading boto3-1.37.8-py3-none-any.whl.metadata (6.6 kB)\n",
            "  Downloading boto3-1.37.7-py3-none-any.whl.metadata (6.6 kB)\n",
            "  Downloading boto3-1.37.6-py3-none-any.whl.metadata (6.6 kB)\n",
            "  Downloading boto3-1.37.5-py3-none-any.whl.metadata (6.6 kB)\n",
            "  Downloading boto3-1.37.4-py3-none-any.whl.metadata (6.6 kB)\n",
            "  Downloading boto3-1.37.3-py3-none-any.whl.metadata (6.6 kB)\n",
            "Requirement already satisfied: botocore<1.38.0,>=1.37.3 in /usr/local/lib/python3.11/dist-packages (from boto3>=1.35.93->gsd==0.1.3) (1.37.3)\n",
            "Requirement already satisfied: multidict<7.0.0,>=6.0.0 in /usr/local/lib/python3.11/dist-packages (from aiobotocore<3.0.0,>=2.5.4->s3fs!=2025.3.1,>=2024.12.0->gsd==0.1.3) (6.4.3)\n",
            "Requirement already satisfied: wrapt<2.0.0,>=1.10.10 in /usr/local/lib/python3.11/dist-packages (from aiobotocore<3.0.0,>=2.5.4->s3fs!=2025.3.1,>=2024.12.0->gsd==0.1.3) (1.17.2)\n",
            "Requirement already satisfied: aiohappyeyeballs>=2.3.0 in /usr/local/lib/python3.11/dist-packages (from aiohttp!=4.0.0a0,!=4.0.0a1->s3fs!=2025.3.1,>=2024.12.0->gsd==0.1.3) (2.6.1)\n",
            "Requirement already satisfied: aiosignal>=1.1.2 in /usr/local/lib/python3.11/dist-packages (from aiohttp!=4.0.0a0,!=4.0.0a1->s3fs!=2025.3.1,>=2024.12.0->gsd==0.1.3) (1.3.2)\n",
            "Requirement already satisfied: attrs>=17.3.0 in /usr/local/lib/python3.11/dist-packages (from aiohttp!=4.0.0a0,!=4.0.0a1->s3fs!=2025.3.1,>=2024.12.0->gsd==0.1.3) (25.3.0)\n",
            "Requirement already satisfied: frozenlist>=1.1.1 in /usr/local/lib/python3.11/dist-packages (from aiohttp!=4.0.0a0,!=4.0.0a1->s3fs!=2025.3.1,>=2024.12.0->gsd==0.1.3) (1.6.0)\n",
            "Requirement already satisfied: propcache>=0.2.0 in /usr/local/lib/python3.11/dist-packages (from aiohttp!=4.0.0a0,!=4.0.0a1->s3fs!=2025.3.1,>=2024.12.0->gsd==0.1.3) (0.3.1)\n",
            "Requirement already satisfied: yarl<2.0,>=1.17.0 in /usr/local/lib/python3.11/dist-packages (from aiohttp!=4.0.0a0,!=4.0.0a1->s3fs!=2025.3.1,>=2024.12.0->gsd==0.1.3) (1.20.0)\n",
            "Requirement already satisfied: six>=1.5 in /usr/local/lib/python3.11/dist-packages (from python-dateutil>=2.8.2->pandas>=2.2.3->gsd==0.1.3) (1.17.0)\n",
            "INFO: pip is looking at multiple versions of s3transfer to determine which version is compatible with other requirements. This could take a while.\n",
            "Collecting s3transfer<0.12.0,>=0.11.0 (from boto3>=1.35.93->gsd==0.1.3)\n",
            "  Downloading s3transfer-0.11.4-py3-none-any.whl.metadata (1.7 kB)\n",
            "  Downloading s3transfer-0.11.3-py3-none-any.whl.metadata (1.7 kB)\n",
            "Downloading boto3-1.37.3-py3-none-any.whl (139 kB)\n",
            "\u001b[2K   \u001b[90m━━━━━━━━━━━━━━━━━━━━━━━━━━━━━━━━━━━━━━━━\u001b[0m \u001b[32m139.3/139.3 kB\u001b[0m \u001b[31m2.8 MB/s\u001b[0m eta \u001b[36m0:00:00\u001b[0m\n",
            "\u001b[?25hDownloading pandas-2.2.3-cp311-cp311-manylinux_2_17_x86_64.manylinux2014_x86_64.whl (13.1 MB)\n",
            "\u001b[2K   \u001b[90m━━━━━━━━━━━━━━━━━━━━━━━━━━━━━━━━━━━━━━━━\u001b[0m \u001b[32m13.1/13.1 MB\u001b[0m \u001b[31m58.2 MB/s\u001b[0m eta \u001b[36m0:00:00\u001b[0m\n",
            "\u001b[?25hDownloading s3transfer-0.11.3-py3-none-any.whl (84 kB)\n",
            "\u001b[2K   \u001b[90m━━━━━━━━━━━━━━━━━━━━━━━━━━━━━━━━━━━━━━━━\u001b[0m \u001b[32m84.2/84.2 kB\u001b[0m \u001b[31m4.6 MB/s\u001b[0m eta \u001b[36m0:00:00\u001b[0m\n",
            "\u001b[?25hBuilding wheels for collected packages: gsd\n",
            "  Building wheel for gsd (pyproject.toml) ... \u001b[?25l\u001b[?25hdone\n",
            "  Created wheel for gsd: filename=gsd-0.1.3-py3-none-any.whl size=9224 sha256=fad6703a96e640815e37cd0ba73b52badd50f2cc2b4af64bed9a0b1f9ed98d77\n",
            "  Stored in directory: /tmp/pip-ephem-wheel-cache-xzsrfsm6/wheels/a3/40/95/ea8a4505ba361edce4d1541f15dcb151a3665b6405ed65d9e9\n",
            "Successfully built gsd\n",
            "Installing collected packages: pandas, s3transfer, boto3, gsd\n",
            "  Attempting uninstall: pandas\n",
            "    Found existing installation: pandas 2.2.2\n",
            "    Uninstalling pandas-2.2.2:\n",
            "      Successfully uninstalled pandas-2.2.2\n",
            "\u001b[31mERROR: pip's dependency resolver does not currently take into account all the packages that are installed. This behaviour is the source of the following dependency conflicts.\n",
            "google-colab 1.0.0 requires pandas==2.2.2, but you have pandas 2.2.3 which is incompatible.\u001b[0m\u001b[31m\n",
            "\u001b[0mSuccessfully installed boto3-1.37.3 gsd-0.1.3 pandas-2.2.3 s3transfer-0.11.3\n"
          ]
        }
      ]
    },
    {
      "cell_type": "code",
      "source": [
        "from gsd import gsdUtil"
      ],
      "metadata": {
        "id": "YtcDQD8pfB44"
      },
      "execution_count": 24,
      "outputs": []
    },
    {
      "cell_type": "code",
      "source": [
        "gsdUtil.date_list('2025-01-01','2025-02-28')"
      ],
      "metadata": {
        "colab": {
          "base_uri": "https://localhost:8080/"
        },
        "id": "5-fENRPKfIRp",
        "outputId": "ea7e7fc8-22e1-4d4c-c198-ba012717e3c5"
      },
      "execution_count": 25,
      "outputs": [
        {
          "output_type": "execute_result",
          "data": {
            "text/plain": [
              "['20250101',\n",
              " '20250102',\n",
              " '20250103',\n",
              " '20250104',\n",
              " '20250105',\n",
              " '20250106',\n",
              " '20250107',\n",
              " '20250108',\n",
              " '20250109',\n",
              " '20250110',\n",
              " '20250111',\n",
              " '20250112',\n",
              " '20250113',\n",
              " '20250114',\n",
              " '20250115',\n",
              " '20250116',\n",
              " '20250117',\n",
              " '20250118',\n",
              " '20250119',\n",
              " '20250120',\n",
              " '20250121',\n",
              " '20250122',\n",
              " '20250123',\n",
              " '20250124',\n",
              " '20250125',\n",
              " '20250126',\n",
              " '20250127',\n",
              " '20250128',\n",
              " '20250129',\n",
              " '20250130',\n",
              " '20250131',\n",
              " '20250201',\n",
              " '20250202',\n",
              " '20250203',\n",
              " '20250204',\n",
              " '20250205',\n",
              " '20250206',\n",
              " '20250207',\n",
              " '20250208',\n",
              " '20250209',\n",
              " '20250210',\n",
              " '20250211',\n",
              " '20250212',\n",
              " '20250213',\n",
              " '20250214',\n",
              " '20250215',\n",
              " '20250216',\n",
              " '20250217',\n",
              " '20250218',\n",
              " '20250219',\n",
              " '20250220',\n",
              " '20250221',\n",
              " '20250222',\n",
              " '20250223',\n",
              " '20250224',\n",
              " '20250225',\n",
              " '20250226',\n",
              " '20250227',\n",
              " '20250228']"
            ]
          },
          "metadata": {},
          "execution_count": 25
        }
      ]
    },
    {
      "cell_type": "markdown",
      "source": [
        "### Freeze, save current environment"
      ],
      "metadata": {
        "id": "qpDT8aMiiZ6x"
      }
    },
    {
      "cell_type": "code",
      "source": [
        "!pip freeze > /content/drive/MyDrive/requirements_colab.txt\n",
        "\n",
        "#!pip install -r /content/drive/MyDrive/requirements_colab.txt to execute"
      ],
      "metadata": {
        "id": "gWIjG6EcfYoc"
      },
      "execution_count": 26,
      "outputs": []
    },
    {
      "cell_type": "code",
      "source": [],
      "metadata": {
        "id": "a0OexRL5g_je"
      },
      "execution_count": null,
      "outputs": []
    }
  ]
}