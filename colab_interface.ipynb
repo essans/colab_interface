{
  "nbformat": 4,
  "nbformat_minor": 0,
  "metadata": {
    "colab": {
      "provenance": [],
      "mount_file_id": "1oGKK_la0OuujoMkVq4CFT1CSmdmn_pBq",
      "authorship_tag": "ABX9TyP5W/CmFiM72wJCFk5l2n96",
      "include_colab_link": true
    },
    "kernelspec": {
      "name": "python3",
      "display_name": "Python 3"
    },
    "language_info": {
      "name": "python"
    }
  },
  "cells": [
    {
      "cell_type": "markdown",
      "metadata": {
        "id": "view-in-github",
        "colab_type": "text"
      },
      "source": [
        "<a href=\"https://colab.research.google.com/github/essans/colab_interface/blob/main/colab_interface.ipynb\" target=\"_parent\"><img src=\"https://colab.research.google.com/assets/colab-badge.svg\" alt=\"Open In Colab\"/></a>"
      ]
    },
    {
      "cell_type": "markdown",
      "source": [
        "### Mount google drive\n",
        "\n"
      ],
      "metadata": {
        "id": "cLiFExmxgVCc"
      }
    },
    {
      "cell_type": "code",
      "source": [
        "from google.colab import drive\n",
        "drive.mount('/content/drive')"
      ],
      "metadata": {
        "id": "FPhfk-VbgUMx"
      },
      "execution_count": null,
      "outputs": []
    },
    {
      "cell_type": "markdown",
      "source": [
        "### wget a file from github"
      ],
      "metadata": {
        "id": "kNTByyrIK68o"
      }
    },
    {
      "cell_type": "code",
      "execution_count": null,
      "metadata": {
        "id": "3E8QFDUPCapq",
        "colab": {
          "base_uri": "https://localhost:8080/"
        },
        "outputId": "04f1a6da-85a3-48cc-906d-75aade2050d2"
      },
      "outputs": [
        {
          "output_type": "stream",
          "name": "stdout",
          "text": [
            "--2025-05-15 22:38:32--  https://raw.githubusercontent.com/essans/gsd/main/gsd/gsdIO.py\n",
            "Resolving raw.githubusercontent.com (raw.githubusercontent.com)... 185.199.108.133, 185.199.109.133, 185.199.110.133, ...\n",
            "Connecting to raw.githubusercontent.com (raw.githubusercontent.com)|185.199.108.133|:443... connected.\n",
            "HTTP request sent, awaiting response... 200 OK\n",
            "Length: 1568 (1.5K) [text/plain]\n",
            "Saving to: ‘gsdIO.py’\n",
            "\n",
            "\rgsdIO.py              0%[                    ]       0  --.-KB/s               \rgsdIO.py            100%[===================>]   1.53K  --.-KB/s    in 0s      \n",
            "\n",
            "2025-05-15 22:38:33 (24.9 MB/s) - ‘gsdIO.py’ saved [1568/1568]\n",
            "\n"
          ]
        }
      ],
      "source": [
        "user = \"essans\"\n",
        "repo = \"gsd\"\n",
        "dir = \"gsd\"\n",
        "pyfile = \"gsdIO.py\"\n",
        "\n",
        "url = f\"https://raw.githubusercontent.com/{user}/{repo}/main/{dir}/{pyfile}\"\n",
        "!wget --no-cache {url}"
      ]
    },
    {
      "cell_type": "markdown",
      "source": [
        "### Show file contents"
      ],
      "metadata": {
        "id": "bKZPq5Q_TO-p"
      }
    },
    {
      "cell_type": "code",
      "source": [
        "with open(pyfile, 'r') as f:\n",
        "    print(f.read())"
      ],
      "metadata": {
        "id": "jfWQS7O_GGKi",
        "collapsed": true
      },
      "execution_count": null,
      "outputs": []
    },
    {
      "cell_type": "markdown",
      "source": [
        "### Grab a function"
      ],
      "metadata": {
        "id": "cqaJqcKOTXgC"
      }
    },
    {
      "cell_type": "code",
      "source": [
        "from gsdIO import create_dir\n",
        "\n"
      ],
      "metadata": {
        "id": "XRpLjPLvGcba"
      },
      "execution_count": null,
      "outputs": []
    },
    {
      "cell_type": "code",
      "source": [
        "create_dir(\"test\")"
      ],
      "metadata": {
        "colab": {
          "base_uri": "https://localhost:8080/"
        },
        "id": "RiaZ3OgLHRj4",
        "outputId": "8dff586b-d91a-45df-ed2b-3467da83dbca"
      },
      "execution_count": null,
      "outputs": [
        {
          "output_type": "stream",
          "name": "stdout",
          "text": [
            "created directory test\n"
          ]
        }
      ]
    },
    {
      "cell_type": "markdown",
      "source": [
        "---"
      ],
      "metadata": {
        "id": "bu2XQHhgH0MR"
      }
    },
    {
      "cell_type": "markdown",
      "source": [
        "### Clone repo"
      ],
      "metadata": {
        "id": "mbpI-NQPT4Ua"
      }
    },
    {
      "cell_type": "code",
      "source": [
        "import os\n",
        "\n",
        "user = \"essans\"\n",
        "repo = \"gsd\"\n",
        "\n",
        "# remove local directory if it already exists\n",
        "if os.path.isdir(repo):\n",
        "    !rm -rf {repo}\n",
        "\n",
        "!git clone https://github.com/{user}/{repo}.git"
      ],
      "metadata": {
        "colab": {
          "base_uri": "https://localhost:8080/"
        },
        "id": "ZbJ-z0TTT6Nm",
        "outputId": "f3fcedcd-47d6-4071-d4a2-b6ec84e39ad9"
      },
      "execution_count": null,
      "outputs": [
        {
          "output_type": "stream",
          "name": "stdout",
          "text": [
            "Cloning into 'gsd'...\n",
            "remote: Enumerating objects: 71, done.\u001b[K\n",
            "remote: Counting objects: 100% (71/71), done.\u001b[K\n",
            "remote: Compressing objects: 100% (51/51), done.\u001b[K\n",
            "remote: Total 71 (delta 33), reused 55 (delta 17), pack-reused 0 (from 0)\u001b[K\n",
            "Receiving objects: 100% (71/71), 16.20 KiB | 5.40 MiB/s, done.\n",
            "Resolving deltas: 100% (33/33), done.\n"
          ]
        }
      ]
    },
    {
      "cell_type": "markdown",
      "source": [
        "---"
      ],
      "metadata": {
        "id": "--htBLmbWTxl"
      }
    },
    {
      "cell_type": "markdown",
      "source": [
        "### pip install from a github repo"
      ],
      "metadata": {
        "id": "KJQ_tQ_CWn-p"
      }
    },
    {
      "cell_type": "code",
      "source": [
        "user = 'essans'\n",
        "repo = 'gsd'\n",
        "\n",
        "url = f\"git+https://github.com/{user}/{repo}.git\"\n",
        "!pip install --upgrade {url}"
      ],
      "metadata": {
        "collapsed": true,
        "id": "b0hV9oMmWsId"
      },
      "execution_count": null,
      "outputs": []
    },
    {
      "cell_type": "markdown",
      "source": [
        "---"
      ],
      "metadata": {
        "id": "Ct8d3E5DjOqs"
      }
    },
    {
      "cell_type": "code",
      "source": [
        "# confirm working\n",
        "\n",
        "from gsd import gsdUtil"
      ],
      "metadata": {
        "id": "YtcDQD8pfB44"
      },
      "execution_count": 27,
      "outputs": []
    },
    {
      "cell_type": "code",
      "source": [
        "gsdUtil.date_list('2025-01-01','2025-02-28')"
      ],
      "metadata": {
        "colab": {
          "base_uri": "https://localhost:8080/"
        },
        "id": "5-fENRPKfIRp",
        "outputId": "ea7e7fc8-22e1-4d4c-c198-ba012717e3c5"
      },
      "execution_count": 25,
      "outputs": [
        {
          "output_type": "execute_result",
          "data": {
            "text/plain": [
              "['20250101',\n",
              " '20250102',\n",
              " '20250103',\n",
              " '20250104',\n",
              " '20250105',\n",
              " '20250106',\n",
              " '20250107',\n",
              " '20250108',\n",
              " '20250109',\n",
              " '20250110',\n",
              " '20250111',\n",
              " '20250112',\n",
              " '20250113',\n",
              " '20250114',\n",
              " '20250115',\n",
              " '20250116',\n",
              " '20250117',\n",
              " '20250118',\n",
              " '20250119',\n",
              " '20250120',\n",
              " '20250121',\n",
              " '20250122',\n",
              " '20250123',\n",
              " '20250124',\n",
              " '20250125',\n",
              " '20250126',\n",
              " '20250127',\n",
              " '20250128',\n",
              " '20250129',\n",
              " '20250130',\n",
              " '20250131',\n",
              " '20250201',\n",
              " '20250202',\n",
              " '20250203',\n",
              " '20250204',\n",
              " '20250205',\n",
              " '20250206',\n",
              " '20250207',\n",
              " '20250208',\n",
              " '20250209',\n",
              " '20250210',\n",
              " '20250211',\n",
              " '20250212',\n",
              " '20250213',\n",
              " '20250214',\n",
              " '20250215',\n",
              " '20250216',\n",
              " '20250217',\n",
              " '20250218',\n",
              " '20250219',\n",
              " '20250220',\n",
              " '20250221',\n",
              " '20250222',\n",
              " '20250223',\n",
              " '20250224',\n",
              " '20250225',\n",
              " '20250226',\n",
              " '20250227',\n",
              " '20250228']"
            ]
          },
          "metadata": {},
          "execution_count": 25
        }
      ]
    },
    {
      "cell_type": "markdown",
      "source": [
        "### Freeze, save current environment"
      ],
      "metadata": {
        "id": "qpDT8aMiiZ6x"
      }
    },
    {
      "cell_type": "code",
      "source": [
        "!pip freeze > /content/drive/MyDrive/requirements_colab.txt\n",
        "\n",
        "#!pip install -r /content/drive/MyDrive/requirements_colab.txt to execute"
      ],
      "metadata": {
        "id": "gWIjG6EcfYoc"
      },
      "execution_count": 26,
      "outputs": []
    },
    {
      "cell_type": "code",
      "source": [],
      "metadata": {
        "id": "a0OexRL5g_je"
      },
      "execution_count": null,
      "outputs": []
    }
  ]
}