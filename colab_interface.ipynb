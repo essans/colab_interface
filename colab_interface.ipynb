{
  "nbformat": 4,
  "nbformat_minor": 0,
  "metadata": {
    "colab": {
      "provenance": [],
      "authorship_tag": "ABX9TyPcV7sqsKEMeTQzrXnLw2h2",
      "include_colab_link": true
    },
    "kernelspec": {
      "name": "python3",
      "display_name": "Python 3"
    },
    "language_info": {
      "name": "python"
    }
  },
  "cells": [
    {
      "cell_type": "markdown",
      "metadata": {
        "id": "view-in-github",
        "colab_type": "text"
      },
      "source": [
        "<a href=\"https://colab.research.google.com/github/essans/colab_interface/blob/main/colab_interface.ipynb\" target=\"_parent\"><img src=\"https://colab.research.google.com/assets/colab-badge.svg\" alt=\"Open In Colab\"/></a>"
      ]
    },
    {
      "cell_type": "markdown",
      "source": [
        "### wget a file from github"
      ],
      "metadata": {
        "id": "kNTByyrIK68o"
      }
    },
    {
      "cell_type": "code",
      "execution_count": 3,
      "metadata": {
        "id": "3E8QFDUPCapq",
        "colab": {
          "base_uri": "https://localhost:8080/"
        },
        "outputId": "04f1a6da-85a3-48cc-906d-75aade2050d2"
      },
      "outputs": [
        {
          "output_type": "stream",
          "name": "stdout",
          "text": [
            "--2025-05-15 22:38:32--  https://raw.githubusercontent.com/essans/gsd/main/gsd/gsdIO.py\n",
            "Resolving raw.githubusercontent.com (raw.githubusercontent.com)... 185.199.108.133, 185.199.109.133, 185.199.110.133, ...\n",
            "Connecting to raw.githubusercontent.com (raw.githubusercontent.com)|185.199.108.133|:443... connected.\n",
            "HTTP request sent, awaiting response... 200 OK\n",
            "Length: 1568 (1.5K) [text/plain]\n",
            "Saving to: ‘gsdIO.py’\n",
            "\n",
            "\rgsdIO.py              0%[                    ]       0  --.-KB/s               \rgsdIO.py            100%[===================>]   1.53K  --.-KB/s    in 0s      \n",
            "\n",
            "2025-05-15 22:38:33 (24.9 MB/s) - ‘gsdIO.py’ saved [1568/1568]\n",
            "\n"
          ]
        }
      ],
      "source": [
        "user = \"essans\"\n",
        "repo = \"gsd\"\n",
        "dir = \"gsd\"\n",
        "pyfile = \"gsdIO.py\"\n",
        "\n",
        "url = f\"https://raw.githubusercontent.com/{user}/{repo}/main/{dir}/{pyfile}\"\n",
        "!wget --no-cache {url}"
      ]
    },
    {
      "cell_type": "markdown",
      "source": [
        "### show file contents"
      ],
      "metadata": {
        "id": "bKZPq5Q_TO-p"
      }
    },
    {
      "cell_type": "code",
      "source": [
        "with open(pyfile, 'r') as f:\n",
        "    print(f.read())"
      ],
      "metadata": {
        "colab": {
          "base_uri": "https://localhost:8080/"
        },
        "id": "jfWQS7O_GGKi",
        "outputId": "f1429cc0-df0c-4c8e-8ea4-aab1637c6e02"
      },
      "execution_count": 4,
      "outputs": [
        {
          "output_type": "stream",
          "name": "stdout",
          "text": [
            "\"\"\"\n",
            "gsdIO: Functions to handles files, directories, input/output operations.\n",
            "\n",
            "- create_dir: creates new directory\n",
            "- join_csv: join multiple csv files as they are read into memory\n",
            "\n",
            "See each function for corresponding docstring\n",
            "\"\"\"\n",
            "\n",
            "\n",
            "\n",
            "\n",
            "import os\n",
            "import s3fs\n",
            "import pandas as pd\n",
            "\n",
            "\n",
            "def create_dir(full_path):\n",
            "    \"\"\"create a new path where if it doesn't already exist\"\"\"\n",
            "    if not os.path.exists(full_path):\n",
            "        os.makedirs(full_path)\n",
            "        print('created directory ' + full_path)\n",
            "    else:\n",
            "        print('path already exists: ' + full_path)\n",
            "\n",
            "\n",
            "\n",
            "def join_csv(path, file_list=None, wildcard='',return_as='df'):\n",
            "    \n",
            "    \"\"\"\n",
            "    join multiple csv files:\n",
            "        \n",
            "    > join_csv(path, file_list=None, wildcard='', return_as='df')\n",
            "\n",
            "    - supply file_list or read all from path as default\n",
            "    - provide wildcard to filter filename for import(eg '_2024_01').  Default is no filtering\n",
            "    - return_as 'df' (default) or 'dict'\n",
            "\n",
            "    \"\"\"\n",
            "\n",
            "    dict_store = {} \n",
            "    \n",
            "    if file_list is None:\n",
            "        dir_contents = os.listdir(path)\n",
            "        filenames = [f for f in  dir_contents if os.path.isfile(path / f)] \n",
            "\n",
            "    else:\n",
            "        filenames = file_list\n",
            "    \n",
            "    filenames = [f for f in filenames if wildcard in f]\n",
            "    \n",
            "    for file in filenames:\n",
            "        _this_file = pd.read_csv(path / file, low_memory=False)\n",
            "        _this_file['source_file'] = file\n",
            "        dict_store[file] = _this_file\n",
            "\n",
            "        print('>>> ' + file, _this_file.shape)\n",
            "\n",
            "        \n",
            "    if return_as == 'dict':\n",
            "        return dict_store\n",
            "    \n",
            "    else:\n",
            "        return pd.concat(dict_store).reset_index(drop=True)\n",
            "    \n",
            "\n"
          ]
        }
      ]
    },
    {
      "cell_type": "markdown",
      "source": [
        "### Usual grab a function"
      ],
      "metadata": {
        "id": "cqaJqcKOTXgC"
      }
    },
    {
      "cell_type": "code",
      "source": [
        "from gsdIO import create_dir\n",
        "\n"
      ],
      "metadata": {
        "id": "XRpLjPLvGcba"
      },
      "execution_count": 7,
      "outputs": []
    },
    {
      "cell_type": "code",
      "source": [
        "create_dir(\"test\")"
      ],
      "metadata": {
        "colab": {
          "base_uri": "https://localhost:8080/"
        },
        "id": "RiaZ3OgLHRj4",
        "outputId": "8dff586b-d91a-45df-ed2b-3467da83dbca"
      },
      "execution_count": 8,
      "outputs": [
        {
          "output_type": "stream",
          "name": "stdout",
          "text": [
            "created directory test\n"
          ]
        }
      ]
    },
    {
      "cell_type": "markdown",
      "source": [
        "---"
      ],
      "metadata": {
        "id": "bu2XQHhgH0MR"
      }
    },
    {
      "cell_type": "markdown",
      "source": [
        "### clone repo"
      ],
      "metadata": {
        "id": "mbpI-NQPT4Ua"
      }
    },
    {
      "cell_type": "code",
      "source": [
        "import os\n",
        "\n",
        "user = \"essans\"\n",
        "repo = \"gsd\"\n",
        "\n",
        "# remove local directory if it already exists\n",
        "if os.path.isdir(repo):\n",
        "    !rm -rf {repo}\n",
        "\n",
        "!git clone https://github.com/{user}/{repo}.git"
      ],
      "metadata": {
        "colab": {
          "base_uri": "https://localhost:8080/"
        },
        "id": "ZbJ-z0TTT6Nm",
        "outputId": "f3fcedcd-47d6-4071-d4a2-b6ec84e39ad9"
      },
      "execution_count": 10,
      "outputs": [
        {
          "output_type": "stream",
          "name": "stdout",
          "text": [
            "Cloning into 'gsd'...\n",
            "remote: Enumerating objects: 71, done.\u001b[K\n",
            "remote: Counting objects: 100% (71/71), done.\u001b[K\n",
            "remote: Compressing objects: 100% (51/51), done.\u001b[K\n",
            "remote: Total 71 (delta 33), reused 55 (delta 17), pack-reused 0 (from 0)\u001b[K\n",
            "Receiving objects: 100% (71/71), 16.20 KiB | 5.40 MiB/s, done.\n",
            "Resolving deltas: 100% (33/33), done.\n"
          ]
        }
      ]
    },
    {
      "cell_type": "code",
      "source": [],
      "metadata": {
        "id": "54ng8YEQUZTG"
      },
      "execution_count": null,
      "outputs": []
    }
  ]
}